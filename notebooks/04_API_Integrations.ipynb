{
  "cells": [
    {
      "cell_type": "markdown",
      "metadata": {},
      "source": [
        "# Integrações com APIs na CodeMaria\n\n",
        "Este notebook demonstra as capacidades de integração da CodeMaria com APIs externas, incluindo buscas contextualizadas e processamento de conteúdo web.\n\n",
        "## Configuração Inicial\n\n",
        "Primeiro, vamos importar os módulos necessários e inicializar os gerenciadores de API."
      ]
    },
    {
      "cell_type": "code",
      "metadata": {},
      "source": [
        "from code_maria.api_integrations import APIIntegrations\n",
        "from code_maria.rate_limiter import RateLimiter\n",
        "from code_maria.cache_manager import CacheManager\n",
        "from code_maria.core import CodeMaria\n\n",
        "# Inicializa os gerenciadores\n",
        "api_manager = APIIntegrations()\n",
        "rate_limiter = RateLimiter()\n",
        "cache_manager = CacheManager()\n",
        "code_maria = CodeMaria()"
      ]
    },
    {
      "cell_type": "markdown",
      "metadata": {},
      "source": [
        "## 1. Buscas Contextualizadas\n\n",
        "### 1.1 Busca Web com Contexto Cultural"
      ]
    },
    {
      "cell_type": "code",
      "metadata": {},
      "source": [
        "# Exemplo de busca contextualizada\n",
        "query = \"história da programação no Brasil\"\n",
        "resultados = api_manager.search_with_context(query, context_type='cultural')\n\n",
        "print(\"Resultados da Busca:\")\n",
        "for i, resultado in enumerate(resultados[:5], 1):\n",
        "    print(f\"\\nResultado {i}:\")\n",
        "    print(f\"Título: {resultado['title']}\")\n",
        "    print(f\"Relevância cultural: {resultado['cultural_relevance']:.2%}\")\n",
        "    print(f\"URL: {resultado['url']}\")\n",
        "    print(f\"Resumo: {resultado['summary']}\")"
      ]
    },
    {
      "cell_type": "markdown",
      "metadata": {},
      "source": [
        "### 1.2 Busca de Artigos Científicos com Contexto Geográfico"
      ]
    },
    {
      "cell_type": "code",
      "metadata": {},
      "source": [
        "# Busca de artigos científicos\n",
        "query = \"desenvolvimento de software em São Paulo\"\n",
        "artigos = api_manager.search_scientific_articles(query, location='São Paulo')\n\n",
        "print(\"Artigos Encontrados:\")\n",
        "for i, artigo in enumerate(artigos[:3], 1):\n",
        "    print(f\"\\nArtigo {i}:\")\n",
        "    print(f\"Título: {artigo['title']}\")\n",
        "    print(f\"Autores: {', '.join(artigo['authors'])}\")\n",
        "    print(f\"Instituição: {artigo['institution']}\")\n",
        "    print(f\"Ano: {artigo['year']}\")\n",
        "    print(f\"Citações: {artigo['citations']}\")"
      ]
    },
    {
      "cell_type": "markdown",
      "metadata": {},
      "source": [
        "## 2. Processamento de Conteúdo Web\n\n",
        "### 2.1 Extração e Análise de Conteúdo"
      ]
    },
    {
      "cell_type": "code",
      "metadata": {},
      "source": [
        "# Processamento de página web\n",
        "url = \"https://exemplo.com.br/artigo-tecnologia\"\n",
        "conteudo = api_manager.process_web_content(url)\n\n",
        "print(\"Análise de Conteúdo Web:\")\n",
        "print(f\"Título da página: {conteudo['title']}\")\n",
        "print(f\"Idioma detectado: {conteudo['language']}\")\n",
        "print(\"\\nPalavras-chave principais:\")\n",
        "for palavra, relevancia in conteudo['keywords'].items():\n",
        "    print(f\"- {palavra}: {relevancia:.2%}\")\n",
        "print(\"\\nReferências externas:\")\n",
        "for ref in conteudo['external_references']:\n",
        "    print(f\"- {ref}\")"
      ]
    },
    {
      "cell_type": "markdown",
      "metadata": {},
      "source": [
        "### 2.2 Análise de Sentimento em Comentários"
      ]
    },
    {
      "cell_type": "code",
      "metadata": {},
      "source": [
        "# Análise de sentimento\n",
        "comentarios = api_manager.get_comments('https://exemplo.com.br/post')\n",
        "analise = api_manager.analyze_sentiment(comentarios)\n\n",
        "print(\"Análise de Sentimento:\")\n",
        "print(f\"Total de comentários: {analise['total_comments']}\")\n",
        "print(f\"Sentimento médio: {analise['average_sentiment']:.2f}\")\n",
        "print(\"\\nDistribuição de sentimentos:\")\n",
        "for sentimento, percentual in analise['sentiment_distribution'].items():\n",
        "    print(f\"- {sentimento}: {percentual:.1%}\")"
      ]
    },
    {
      "cell_type": "markdown",
      "metadata": {},
      "source": [
        "## 3. Gerenciamento de Taxa e Cache\n\n",
        "### 3.1 Controle de Requisições"
      ]
    },
    {
      "cell_type": "code",
      "metadata": {},
      "source": [
        "# Verificação de limites de API\n",
        "status = rate_limiter.check_api_status()\n\n",
        "print(\"Status das APIs:\")\n",
        "for api, info in status.items():\n",
        "    print(f\"\\nAPI: {api}\")\n",
        "    print(f\"Requisições restantes: {info['remaining_requests']}\")\n",
        "    print(f\"Tempo até reset: {info['time_to_reset']}s\")\n",
        "    print(f\"Status: {info['status']}\")"
      ]
    },
    {
      "cell_type": "markdown",
      "metadata": {},
      "source": [
        "### 3.2 Gerenciamento de Cache"
      ]
    },
    {
      "cell_type": "code",
      "metadata": {},
      "source": [
        "# Estatísticas de cache\n",
        "cache_stats = cache_manager.get_statistics()\n\n",
        "print(\"Estatísticas de Cache:\")\n",
        "print(f\"Total de itens em cache: {cache_stats['total_items']}\")\n",
        "print(f\"Taxa de acerto: {cache_stats['hit_rate']:.2%}\")\n",
        "print(f\"Economia de requisições: {cache_stats['requests_saved']}\")\n",
        "print(f\"Tamanho total do cache: {cache_stats['total_size_mb']:.2f} MB\")\n\n",
        "# Visualização\n",
        "import matplotlib.pyplot as plt\n\n",
        "plt.figure(figsize=(10, 6))\n",
        "plt.pie(\n",
        "    [cache_stats['hits'], cache_stats['misses']],\n",
        "    labels=['Cache Hits', 'Cache Misses'],\n",
        "    autopct='%1.1f%%'\n",
        ")\n",
        "plt.title(\"Distribuição de Cache Hits vs Misses\")\n",
        "plt.show()"
      ]
    },
    {
      "cell_type": "markdown",
      "metadata": {},
      "source": [
        "## 4. Exemplo Completo\n\n",
        "### 4.1 Busca e Processamento de Cursos"
      ]
    },
    {
      "cell_type": "code",
      "metadata": {},
      "source": [
        "# Exemplo completo de uso\n",
        "query = \"cursos de programação em São Paulo\"\n",
        "\n",
        "# Busca cursos\n",
        "resultados = api_manager.search_with_context(\n",
        "    query,\n",
        "    context_type='educational',\n",
        "    location='São Paulo'\n",
        ")\n\n",
        "print(\"Análise de Cursos:\")\n",
        "for resultado in resultados[:3]:\n",
        "    print(f\"\\nCurso: {resultado['title']}\")\n",
        "    \n",
        "    # Processa página do curso\n",
        "    conteudo = api_manager.process_web_content(resultado['url'])\n",
        "    print(f\"Instituição: {conteudo['institution']}\")\n",
        "    print(f\"Duração: {conteudo['duration']}\")\n",
        "    print(f\"Modalidade: {conteudo['modality']}\")\n",
        "    \n",
        "    # Analisa avaliações\n",
        "    avaliacoes = api_manager.get_reviews(resultado['url'])\n",
        "    sentimento = api_manager.analyze_sentiment(avaliacoes)\n",
        "    print(f\"Avaliação média: {sentimento['average_rating']:.1f}/5.0\")\n",
        "    print(f\"Satisfação geral: {sentimento['satisfaction_rate']:.1%}\")"
      ]
    }
  ],
  "metadata": {
    "kernelspec": {
      "display_name": "Python 3",
      "language": "python",
      "name": "python3"
    }
  },
  "nbformat": 4,
  "nbformat_minor": 4
}