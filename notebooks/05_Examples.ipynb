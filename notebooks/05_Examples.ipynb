{
  "cells": [
    {
      "cell_type": "markdown",
      "metadata": {},
      "source": [
        "# Exemplos Práticos da CodeMaria\n\n",
        "Este notebook apresenta exemplos práticos de uso da CodeMaria em diferentes cenários, demonstrando suas capacidades de processamento, análise e geração de conteúdo.\n\n",
        "## Configuração Inicial\n\n",
        "Primeiro, vamos importar os módulos necessários e inicializar a CodeMaria."
      ]
    },
    {
      "cell_type": "code",
      "metadata": {},
      "source": [
        "from code_maria.core import CodeMaria\n",
        "from code_maria.pdf_processor import PDFProcessor\n",
        "from code_maria.api_integrations import APIIntegrations\n",
        "from code_maria.learning_engine import LearningEngine\n",
        "from code_maria.creativity_engine import CreativityEngine\n\n",
        "# Inicializa os componentes\n",
        "code_maria = CodeMaria()\n",
        "pdf_processor = PDFProcessor()\n",
        "api_manager = APIIntegrations()\n",
        "learning_engine = LearningEngine()\n",
        "creativity_engine = CreativityEngine()"
      ]
    },
    {
      "cell_type": "markdown",
      "metadata": {},
      "source": [
        "## 1. Consulta Cultural\n\n",
        "### 1.1 Evolução da Tecnologia no Brasil"
      ]
    },
    {
      "cell_type": "code",
      "metadata": {},
      "source": [
        "# Exemplo de consulta cultural\n",
        "query = \"Como a tecnologia evoluiu no Brasil desde os anos 90?\"\n",
        "\n",
        "# Busca informações\n",
        "resultados = api_manager.search_with_context(\n",
        "    query,\n",
        "    context_type='historical',\n",
        "    location='Brasil',\n",
        "    time_period='1990-2024'\n",
        ")\n\n",
        "# Processa e analisa os resultados\n",
        "analise = learning_engine.analyze_historical_context(resultados)\n\n",
        "print(\"Análise Histórica:\")\n",
        "print(\"\\nPrincipais marcos:\")\n",
        "for ano, eventos in analise['timeline'].items():\n",
        "    print(f\"\\n{ano}:\")\n",
        "    for evento in eventos:\n",
        "        print(f\"- {evento}\")\n\n",
        "print(\"\\nTendências identificadas:\")\n",
        "for tendencia in analise['trends']:\n",
        "    print(f\"- {tendencia}\")"
      ]
    },
    {
      "cell_type": "markdown",
      "metadata": {},
      "source": [
        "### 1.2 Geração de Conteúdo Contextualizado"
      ]
    },
    {
      "cell_type": "code",
      "metadata": {},
      "source": [
        "# Geração de conteúdo com contexto cultural\n",
        "tema = \"Estruturas de Dados\"\n",
        "contexto = {\n",
        "    \"país\": \"Brasil\",\n",
        "    \"nível\": \"intermediário\",\n",
        "    \"área\": \"tecnologia\"\n",
        "}\n\n",
        "tutorial = creativity_engine.generate_tutorial(\n",
        "    tema,\n",
        "    context=contexto,\n",
        "    include_examples=True\n",
        ")\n\n",
        "print(\"Tutorial Gerado:\")\n",
        "print(f\"\\nTítulo: {tutorial['title']}\")\n",
        "print(\"\\nIntrodução:\")\n",
        "print(tutorial['introduction'])\n",
        "print(\"\\nTópicos:\")\n",
        "for topico in tutorial['topics']:\n",
        "    print(f\"\\n{topico['title']}\")\n",
        "    print(f\"Descrição: {topico['description']}\")\n",
        "    if topico['example']:\n",
        "        print(\"Exemplo:\")\n",
        "        print(topico['example'])"
      ]
    },
    {
      "cell_type": "markdown",
      "metadata": {},
      "source": [
        "## 2. Processamento Regional\n\n",
        "### 2.1 Análise de Documento Local"
      ]
    },
    {
      "cell_type": "code",
      "metadata": {},
      "source": [
        "# Processamento de documento regional\n",
        "arquivo = \"exemplos/artigo_regional.pdf\"\n",
        "resultado = pdf_processor.process_pdf(arquivo)\n\n",
        "# Análise de contexto regional\n",
        "contexto = learning_engine.analyze_regional_context(resultado['content'])\n\n",
        "print(\"Análise Regional:\")\n",
        "print(f\"\\nRegião principal: {contexto['main_region']}\")\n",
        "print(\"\\nReferências regionais:\")\n",
        "for ref in contexto['regional_references']:\n",
        "    print(f\"- {ref}\")\n",
        "print(\"\\nTermos específicos da região:\")\n",
        "for termo, significado in contexto['regional_terms'].items():\n",
        "    print(f\"- {termo}: {significado}\")"
      ]
    },
    {
      "cell_type": "markdown",
      "metadata": {},
      "source": [
        "### 2.2 Adaptação de Conteúdo"
      ]
    },
    {
      "cell_type": "code",
      "metadata": {},
      "source": [
        "# Adaptação de conteúdo para contexto regional\n",
        "conteudo_original = resultado['content']\n",
        "regiao_alvo = \"Nordeste\"\n\n",
        "adaptacao = creativity_engine.adapt_content(\n",
        "    conteudo_original,\n",
        "    target_region=regiao_alvo,\n",
        "    preserve_technical=True\n",
        ")\n\n",
        "print(\"Conteúdo Adaptado:\")\n",
        "print(f\"\\nVersão para {regiao_alvo}:\")\n",
        "print(adaptacao['adapted_content'])\n",
        "print(\"\\nModificações realizadas:\")\n",
        "for mod in adaptacao['modifications']:\n",
        "    print(f\"- {mod}\")"
      ]
    },
    {
      "cell_type": "markdown",
      "metadata": {},
      "source": [
        "## 3. Análise de Feedback\n\n",
        "### 3.1 Processamento de Comentários"
      ]
    },
    {
      "cell_type": "code",
      "metadata": {},
      "source": [
        "# Análise de feedback de usuários\n",
        "comentarios = api_manager.get_user_feedback('projeto-exemplo')\n",
        "analise = learning_engine.analyze_feedback(comentarios)\n\n",
        "print(\"Análise de Feedback:\")\n",
        "print(f\"\\nTotal de comentários: {analise['total_comments']}\")\n",
        "print(f\"Sentimento geral: {analise['overall_sentiment']:.2f}/5.0\")\n",
        "print(\"\\nTemas principais:\")\n",
        "for tema, freq in analise['main_topics'].items():\n",
        "    print(f\"- {tema}: {freq:.1%}\")\n",
        "print(\"\\nSugestões mais frequentes:\")\n",
        "for sugestao in analise['top_suggestions']:\n",
        "    print(f\"- {sugestao}\")"
      ]
    },
    {
      "cell_type": "markdown",
      "metadata": {},
      "source": [
        "## 4. Fluxo Completo\n\n",
        "### 4.1 Processo Integrado"
      ]
    },
    {
      "cell_type": "code",
      "metadata": {},
      "source": [
        "# Exemplo de fluxo completo\n",
        "# 1. Recebe entrada do usuário\n",
        "query = \"Como ensinar programação para iniciantes no Brasil?\"\n\n",
        "# 2. Detecta contexto\n",
        "contexto = learning_engine.detect_context(query)\n",
        "print(\"Contexto Detectado:\")\n",
        "print(f\"Tipo: {contexto['type']}\")\n",
        "print(f\"Região: {contexto['region']}\")\n",
        "print(f\"Nível: {contexto['level']}\")\n\n",
        "# 3. Busca e processa informações\n",
        "resultados = api_manager.search_with_context(\n",
        "    query,\n",
        "    context_type=contexto['type'],\n",
        "    location=contexto['region']\n",
        ")\n\n",
        "# 4. Gera resposta personalizada\n",
        "resposta = creativity_engine.generate_response(\n",
        "    query,\n",
        "    context=contexto,\n",
        "    search_results=resultados\n",
        ")\n\n",
        "print(\"\\nResposta Gerada:\")\n",
        "print(resposta['content'])\n\n",
        "# 5. Analisa feedback\n",
        "feedback = {\n",
        "    \"clareza\": 4.5,\n",
        "    \"relevancia\": 4.8,\n",
        "    \"utilidade\": 4.6,\n",
        "    \"comentario\": \"Excelente explicação com exemplos práticos!\"\n",
        "}\n\n",
        "analise = learning_engine.process_feedback(feedback)\n",
        "print(\"\\nAnálise de Feedback:\")\n",
        "print(f\"Pontuação média: {analise['average_score']:.1f}/5.0\")\n",
        "print(f\"Aspectos positivos: {', '.join(analise['positive_aspects'])}\")\n",
        "if analise['suggestions']:\n",
        "    print(f\"Sugestões de melhoria: {', '.join(analise['suggestions'])}\")"
      ]
    }
  ],
  "metadata": {
    "kernelspec": {
      "display_name": "Python 3",
      "language": "python",
      "name": "python3"
    }
  },
  "nbformat": 4,
  "nbformat_minor": 4
}