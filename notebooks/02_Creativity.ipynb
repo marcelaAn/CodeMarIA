{
  "cells": [
    {
      "cell_type": "markdown",
      "metadata": {},
      "source": [
        "# Motor de Criatividade da CodeMaria\n\n",
        "Este notebook demonstra as capacidades criativas da CodeMaria, apresentando exemplos práticos de geração de conteúdo educacional.\n\n",
        "## Configuração Inicial\n\n",
        "Primeiro, vamos importar os módulos necessários e inicializar o motor de criatividade."
      ]
    },
    {
      "cell_type": "code",
      "metadata": {},
      "source": [
        "from code_maria.creativity import CreativityEngine\n",
        "from code_maria.core import CodeMaria\n\n",
        "# Inicializa o motor de criatividade\n",
        "creativity_engine = CreativityEngine()\n",
        "code_maria = CodeMaria()"
      ]
    },
    {
      "cell_type": "markdown",
      "metadata": {},
      "source": [
        "## 1. Geração de Conteúdo\n\n",
        "O motor de criatividade pode gerar diferentes tipos de conteúdo educacional.\n\n",
        "### 1.1 Tutoriais Personalizados"
      ]
    },
    {
      "cell_type": "code",
      "metadata": {},
      "source": [
        "# Exemplo de geração de tutorial\n",
        "tutorial = creativity_engine.generate_educational_content(\n",
        "    topic=\"Estruturas de Repetição em Python\",\n",
        "    difficulty=\"basic\",\n",
        "    language=\"python\"\n",
        ")\n\n",
        "print(\"Tutorial Gerado:\")\n",
        "print(f\"Título: {tutorial['título']}\\n\")\n",
        "for secao in tutorial['seções']:\n",
        "    print(f\"Seção: {secao['título']}\")\n",
        "    print(f\"Conteúdo: {secao['conteúdo']}\\n\")"
      ]
    },
    {
      "cell_type": "markdown",
      "metadata": {},
      "source": [
        "### 1.2 Exemplos Contextualizados\n\n",
        "A CodeMaria gera exemplos que fazem sentido no contexto brasileiro."
      ]
    },
    {
      "cell_type": "code",
      "metadata": {},
      "source": [
        "# Exemplo de código contextualizado\n",
        "exemplo = creativity_engine._generate_code_example(\n",
        "    topic=\"Listas em Python\",\n",
        "    language=\"python\",\n",
        "    difficulty=\"basic\"\n",
        ")\n\n",
        "print(\"Exemplo Contextualizado:\")\n",
        "print(exemplo)"
      ]
    },
    {
      "cell_type": "markdown",
      "metadata": {},
      "source": [
        "### 1.3 Exercícios Adaptativos\n\n",
        "Os exercícios são adaptados ao nível e contexto do aluno."
      ]
    },
    {
      "cell_type": "code",
      "metadata": {},
      "source": [
        "# Geração de exercícios\n",
        "exercicios = creativity_engine.generate_educational_content(\n",
        "    topic=\"Funções em Python\",\n",
        "    content_type=\"quiz\",\n",
        "    difficulty=\"intermediate\"\n",
        ")\n\n",
        "print(\"Exercícios Gerados:\")\n",
        "for i, exercicio in enumerate(exercicios['questões'], 1):\n",
        "    print(f\"\\nExercício {i}:\")\n",
        "    print(f\"Pergunta: {exercicio['pergunta']}\")\n",
        "    if exercicio['tipo'] == 'múltipla escolha':\n",
        "        print(\"Alternativas:\")\n",
        "        for alt in exercicio['alternativas']:\n",
        "            print(f\"- {alt}\")"
      ]
    },
    {
      "cell_type": "markdown",
      "metadata": {},
      "source": [
        "## 2. Adaptação Cultural\n\n",
        "### 2.1 Referências Brasileiras"
      ]
    },
    {
      "cell_type": "code",
      "metadata": {},
      "source": [
        "# Exemplo com referências culturais\n",
        "exemplo_cultural = creativity_engine.generate_text(\n",
        "    prompt=\"Explique arrays usando elementos da cultura brasileira\",\n",
        "    creative_level=0.8\n",
        ")\n\n",
        "print(\"Explicação Culturalmente Adaptada:\")\n",
        "print(exemplo_cultural)"
      ]
    },
    {
      "cell_type": "markdown",
      "metadata": {},
      "source": [
        "### 2.2 Linguagem Regional\n\n",
        "A CodeMaria adapta a linguagem para diferentes regiões do Brasil."
      ]
    },
    {
      "cell_type": "code",
      "metadata": {},
      "source": [
        "# Exemplos com variações regionais\n",
        "regioes = ['nordeste', 'sul', 'sudeste']\n",
        "texto_base = \"Como usar loops em Python\"\n\n",
        "for regiao in regioes:\n",
        "    texto_adaptado = creativity_engine.generate_text(\n",
        "        prompt=texto_base,\n",
        "        region=regiao\n",
        "    )\n",
        "    print(f\"\\nAdaptação para {regiao}:\")\n",
        "    print(texto_adaptado)"
      ]
    },
    {
      "cell_type": "markdown",
      "metadata": {},
      "source": [
        "## 3. Personalização\n\n",
        "### 3.1 Ajuste por Nível"
      ]
    },
    {
      "cell_type": "code",
      "metadata": {},
      "source": [
        "# Exemplo de conteúdo com diferentes níveis\n",
        "niveis = ['basic', 'intermediate', 'advanced']\n",
        "topico = \"Orientação a Objetos\"\n\n",
        "for nivel in niveis:\n",
        "    conteudo = creativity_engine.generate_educational_content(\n",
        "        topic=topico,\n",
        "        difficulty=nivel\n",
        "    )\n",
        "    print(f\"\\nNível: {nivel}\")\n",
        "    print(f\"Título: {conteudo['título']}\")\n",
        "    print(\"Principais conceitos:\")\n",
        "    for conceito in conteudo['conceitos'][:3]:\n",
        "        print(f\"- {conceito}\")"
      ]
    },
    {
      "cell_type": "markdown",
      "metadata": {},
      "source": [
        "## 4. Interatividade\n\n",
        "### 4.1 Quizzes Dinâmicos"
      ]
    },
    {
      "cell_type": "code",
      "metadata": {},
      "source": [
        "# Geração de quiz interativo\n",
        "quiz = creativity_engine.generate_educational_content(\n",
        "    topic=\"Dicionários em Python\",\n",
        "    content_type=\"quiz\",\n",
        "    interactive=True\n",
        ")\n\n",
        "print(\"Quiz Interativo:\")\n",
        "print(f\"Título: {quiz['título']}\\n\")\n",
        "for questao in quiz['questões']:\n",
        "    print(f\"Pergunta: {questao['pergunta']}\")\n",
        "    if questao['tipo'] == 'múltipla escolha':\n",
        "        print(\"Alternativas:\")\n",
        "        for i, alt in enumerate(questao['alternativas']):\n",
        "            print(f\"{i+1}) {alt}\")\n",
        "    print(f\"Dica: {questao['dica']}\\n\")"
      ]
    },
    {
      "cell_type": "markdown",
      "metadata": {},
      "source": [
        "## 5. Métricas de Criatividade\n\n",
        "Vamos analisar as métricas do motor de criatividade."
      ]
    },
    {
      "cell_type": "code",
      "metadata": {},
      "source": [
        "# Análise de métricas\n",
        "metricas = creativity_engine.get_metrics()\n\n",
        "print(\"Métricas de Criatividade:\")\n",
        "print(f\"Total de conteúdos gerados: {metricas['total_creations']}\")\n",
        "print(f\"Nível médio de criatividade: {metricas['avg_creativity_level']:.2f}\")\n",
        "print(\"\\nDistribuição por tipo:\")\n",
        "for tipo, count in metricas['type_distribution'].items():\n",
        "    print(f\"- {tipo}: {count}\")\n\n",
        "# Visualização\n",
        "import matplotlib.pyplot as plt\n",
        "import seaborn as sns\n\n",
        "plt.figure(figsize=(10, 6))\n",
        "sns.barplot(\n",
        "    x=list(metricas['type_distribution'].keys()),\n",
        "    y=list(metricas['type_distribution'].values())\n",
        ")\n",
        "plt.title(\"Distribuição de Tipos de Conteúdo\")\n",
        "plt.xticks(rotation=45)\n",
        "plt.tight_layout()\n",
        "plt.show()"
      ]
    }
  ],
  "metadata": {
    "kernelspec": {
      "display_name": "Python 3",
      "language": "python",
      "name": "python3"
    }
  },
  "nbformat": 4,
  "nbformat_minor": 4
}