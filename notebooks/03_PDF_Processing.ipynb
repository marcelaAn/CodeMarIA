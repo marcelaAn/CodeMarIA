{
  "cells": [
    {
      "cell_type": "markdown",
      "metadata": {},
      "source": [
        "# Processamento de PDFs na CodeMaria\n\n",
        "Este notebook demonstra as capacidades de processamento de PDFs da CodeMaria, incluindo extração de texto, análise de conteúdo e contextualização.\n\n",
        "## Configuração Inicial\n\n",
        "Primeiro, vamos importar os módulos necessários e inicializar o processador de PDFs."
      ]
    },
    {
      "cell_type": "code",
      "metadata": {},
      "source": [
        "from code_maria.pdf_processor import PDFProcessor\n",
        "from code_maria.pdf_trainer import PDFTrainer\n",
        "from code_maria.core import CodeMaria\n\n",
        "# Inicializa os processadores\n",
        "pdf_processor = PDFProcessor()\n",
        "pdf_trainer = PDFTrainer()\n",
        "code_maria = CodeMaria()"
      ]
    },
    {
      "cell_type": "markdown",
      "metadata": {},
      "source": [
        "## 1. Extração de Texto\n\n",
        "### 1.1 Processamento de Layout\n",
        "A CodeMaria pode extrair texto preservando a estrutura do documento."
      ]
    },
    {
      "cell_type": "code",
      "metadata": {},
      "source": [
        "# Exemplo de processamento de PDF\n",
        "resultado = pdf_processor.process_pdf('exemplos/tutorial_python.pdf')\n\n",
        "print(\"Informações Extraídas:\")\n",
        "print(f\"Título: {resultado['metadata']['title']}\")\n",
        "print(f\"Autor: {resultado['metadata']['author']}\")\n",
        "print(f\"Data: {resultado['metadata']['creation_date']}\")\n",
        "print(\"\\nPrimeiros parágrafos:\")\n",
        "for i, paragrafo in enumerate(resultado['paragraphs'][:3], 1):\n",
        "    print(f\"\\nParágrafo {i}:\")\n",
        "    print(paragrafo)"
      ]
    },
    {
      "cell_type": "markdown",
      "metadata": {},
      "source": [
        "### 1.2 Reconhecimento de Estrutura\n",
        "O processador identifica diferentes elementos do documento."
      ]
    },
    {
      "cell_type": "code",
      "metadata": {},
      "source": [
        "# Análise estrutural do documento\n",
        "estrutura = pdf_processor.analyze_structure('exemplos/artigo_tecnico.pdf')\n\n",
        "print(\"Estrutura do Documento:\")\n",
        "print(f\"Total de seções: {len(estrutura['sections'])}\")\n",
        "print(\"\\nSeções principais:\")\n",
        "for secao in estrutura['sections']:\n",
        "    print(f\"- {secao['title']}\")\n",
        "print(f\"\\nTotal de figuras: {len(estrutura['figures'])}\")\n",
        "print(f\"Total de tabelas: {len(estrutura['tables'])}\")\n",
        "print(f\"Total de referências: {len(estrutura['references'])}\")"
      ]
    },
    {
      "cell_type": "markdown",
      "metadata": {},
      "source": [
        "## 2. Análise de Conteúdo\n\n",
        "### 2.1 Identificação de Temas"
      ]
    },
    {
      "cell_type": "code",
      "metadata": {},
      "source": [
        "# Análise temática\n",
        "analise = pdf_processor.analyze_content('exemplos/material_didatico.pdf')\n\n",
        "print(\"Análise de Conteúdo:\")\n",
        "print(\"\\nTemas principais:\")\n",
        "for tema, relevancia in analise['main_topics'].items():\n",
        "    print(f\"- {tema}: {relevancia:.2%}\")\n\n",
        "print(\"\\nPalavras-chave:\")\n",
        "for palavra in analise['keywords'][:10]:\n",
        "    print(f\"- {palavra}\")"
      ]
    },
    {
      "cell_type": "markdown",
      "metadata": {},
      "source": [
        "### 2.2 Análise de Complexidade\n",
        "Avaliação do nível de complexidade do conteúdo."
      ]
    },
    {
      "cell_type": "code",
      "metadata": {},
      "source": [
        "# Análise de complexidade\n",
        "complexidade = pdf_processor.analyze_complexity('exemplos/apostila.pdf')\n\n",
        "print(\"Análise de Complexidade:\")\n",
        "print(f\"Nível geral: {complexidade['overall_level']}\")\n",
        "print(f\"Índice de legibilidade: {complexidade['readability_score']:.2f}\")\n",
        "print(\"\\nDistribuição de complexidade por seção:\")\n",
        "for secao, nivel in complexidade['section_levels'].items():\n",
        "    print(f\"- {secao}: {nivel}\")"
      ]
    },
    {
      "cell_type": "markdown",
      "metadata": {},
      "source": [
        "## 3. Contextualização\n\n",
        "### 3.1 Detecção de Referências Culturais"
      ]
    },
    {
      "cell_type": "code",
      "metadata": {},
      "source": [
        "# Análise de contexto cultural\n",
        "contexto = pdf_processor._analyze_cultural_context('exemplos/material_brasileiro.pdf')\n\n",
        "print(\"Análise de Contexto Cultural:\")\n",
        "print(\"\\nReferências culturais identificadas:\")\n",
        "for ref in contexto['cultural_references']:\n",
        "    print(f\"- {ref}\")\n\n",
        "print(\"\\nLocalizações mencionadas:\")\n",
        "for local in contexto['locations']:\n",
        "    print(f\"- {local}\")"
      ]
    },
    {
      "cell_type": "markdown",
      "metadata": {},
      "source": [
        "## 4. Processamento em Lote\n\n",
        "### 4.1 Análise de Múltiplos Documentos"
      ]
    },
    {
      "cell_type": "code",
      "metadata": {},
      "source": [
        "# Processamento em lote\n",
        "resultados = pdf_processor.process_pdf_folder('exemplos/pdfs/')\n\n",
        "print(\"Processamento em Lote:\")\n",
        "print(f\"Total de documentos: {len(resultados)}\")\n",
        "print(\"\\nResumo por documento:\")\n",
        "for doc in resultados:\n",
        "    print(f\"\\nArquivo: {doc['file_name']}\")\n",
        "    print(f\"Tamanho: {doc['size']} bytes\")\n",
        "    print(f\"Páginas: {doc['pages']}\")\n",
        "    print(f\"Status: {doc['status']}\")"
      ]
    },
    {
      "cell_type": "markdown",
      "metadata": {},
      "source": [
        "### 4.2 Estatísticas Agregadas\n",
        "Análise estatística do conjunto de documentos."
      ]
    },
    {
      "cell_type": "code",
      "metadata": {},
      "source": [
        "# Análise estatística\n",
        "stats = pdf_processor.get_processing_summary()\n\n",
        "print(\"Estatísticas de Processamento:\")\n",
        "print(f\"Total de arquivos processados: {stats['total_files']}\")\n",
        "print(f\"Taxa de sucesso: {stats['success_rate']:.2%}\")\n",
        "print(f\"Tempo médio de processamento: {stats['avg_processing_time']:.2f}s\")\n\n",
        "# Visualização\n",
        "import matplotlib.pyplot as plt\n",
        "import seaborn as sns\n\n",
        "plt.figure(figsize=(10, 6))\n",
        "sns.barplot(\n",
        "    x=list(stats['content_types'].keys()),\n",
        "    y=list(stats['content_types'].values())\n",
        ")\n",
        "plt.title(\"Distribuição de Tipos de Conteúdo\")\n",
        "plt.xticks(rotation=45)\n",
        "plt.tight_layout()\n",
        "plt.show()"
      ]
    }
  ],
  "metadata": {
    "kernelspec": {
      "display_name": "Python 3",
      "language": "python",
      "name": "python3"
    }
  },
  "nbformat": 4,
  "nbformat_minor": 4
}