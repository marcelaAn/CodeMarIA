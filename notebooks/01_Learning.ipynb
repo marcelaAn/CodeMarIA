{
  "cells": [
    {
      "cell_type": "markdown",
      "metadata": {},
      "source": [
        "# Motor de Aprendizado da CodeMaria\n\n",
        "Este notebook demonstra o funcionamento do motor de aprendizado da CodeMaria, apresentando exemplos práticos de cada funcionalidade.\n\n",
        "## Configuração Inicial\n\n",
        "Primeiro, vamos importar os módulos necessários e inicializar o motor de aprendizado."
      ]
    },
    {
      "cell_type": "code",
      "metadata": {},
      "source": [
        "from code_maria.learning import LearningEngine\n",
        "from code_maria.core import CodeMaria\n\n",
        "# Inicializa o motor de aprendizado\n",
        "learning_engine = LearningEngine()\n",
        "code_maria = CodeMaria()"
      ]
    },
    {
      "cell_type": "markdown",
      "metadata": {},
      "source": [
        "## 1. Processamento de Contexto\n\n",
        "O processamento de contexto é fundamental para entender o ambiente cultural e educacional do aluno.\n\n",
        "### 1.1 Análise de Contexto Cultural"
      ]
    },
    {
      "cell_type": "code",
      "metadata": {},
      "source": [
        "# Exemplo de análise de contexto cultural\n",
        "texto = \"Como é o mercado de tecnologia em São Paulo?\"\n",
        "resultado = learning_engine._detect_user_input_context(texto)\n",
        "print(\"Análise de Contexto:\")\n",
        "print(f\"- Contexto Principal: {resultado['main_context']}\")\n",
        "print(f\"- Referências Culturais: {resultado['cultural_references']}\")\n",
        "print(f\"- Localização: {resultado['location']}\")"
      ]
    },
    {
      "cell_type": "markdown",
      "metadata": {},
      "source": [
        "### 1.2 Detecção de Idioma\n\n",
        "A CodeMaria pode identificar e processar diferentes idiomas, com foco especial no português brasileiro."
      ]
    },
    {
      "cell_type": "code",
      "metadata": {},
      "source": [
        "# Exemplo de detecção de idioma\n",
        "textos = [\n",
        "    \"Como aprender programação?\",\n",
        "    \"How to learn programming?\",\n",
        "    \"¿Cómo aprender programación?\"\n",
        "]\n\n",
        "for texto in textos:\n",
        "    idioma = learning_engine._detect_language(texto)\n",
        "    print(f\"Texto: {texto}\")\n",
        "    print(f\"Idioma detectado: {idioma}\\n\")"
      ]
    },
    {
      "cell_type": "markdown",
      "metadata": {},
      "source": [
        "### 1.3 Identificação de Temas\n\n",
        "A CodeMaria pode identificar temas específicos em textos e recursos educacionais."
      ]
    },
    {
      "cell_type": "code",
      "metadata": {},
      "source": [
        "# Exemplo de identificação de temas\n",
        "texto = \"\"\"\n",
        "Python é uma linguagem de programação muito usada em ciência de dados \n",
        "e inteligência artificial. Com ela, podemos criar análises estatísticas \n",
        "e modelos de machine learning.\n",
        "\"\"\"\n\n",
        "temas = learning_engine._classify_topics(texto)\n",
        "print(\"Temas Identificados:\")\n",
        "for tema, confianca in temas.items():\n",
        "    print(f\"- {tema}: {confianca:.2%}\")"
      ]
    },
    {
      "cell_type": "markdown",
      "metadata": {},
      "source": [
        "## 2. Análise de Sentimentos\n\n",
        "A análise de sentimentos ajuda a entender a receptividade e dificuldades dos alunos."
      ]
    },
    {
      "cell_type": "code",
      "metadata": {},
      "source": [
        "# Exemplo de análise de sentimentos\n",
        "feedbacks = [\n",
        "    \"Adorei a explicação sobre funções!\",\n",
        "    \"Não entendi nada sobre classes...\",\n",
        "    \"O exemplo ajudou muito a entender.\"\n",
        "]\n\n",
        "for feedback in feedbacks:\n",
        "    sentimento = learning_engine.analyze_sentiment(feedback)\n",
        "    print(f\"Feedback: {feedback}\")\n",
        "    print(f\"Sentimento: {sentimento['label']}\")\n",
        "    print(f\"Confiança: {sentimento['score']:.2%}\\n\")"
      ]
    },
    {
      "cell_type": "markdown",
      "metadata": {},
      "source": [
        "## 3. Aprendizado Web\n\n",
        "A CodeMaria pode aprender continuamente através de recursos web."
      ]
    },
    {
      "cell_type": "code",
      "metadata": {},
      "source": [
        "# Exemplo de aprendizado web\n",
        "url = \"https://docs.python.org/pt-br/3/tutorial/\"\n",
        "resultado = learning_engine.learn_from_web(url)\n\n",
        "print(\"Aprendizado da Web:\")\n",
        "print(f\"- Título: {resultado['title']}\")\n",
        "print(f\"- Contexto: {resultado['context']}\")\n",
        "print(\"- Conceitos Extraídos:\")\n",
        "for conceito in resultado['concepts'][:5]:\n",
        "    print(f\"  • {conceito}\")"
      ]
    },
    {
      "cell_type": "markdown",
      "metadata": {},
      "source": [
        "## 4. Base de Conhecimento\n\n",
        "A base de conhecimento é atualizada dinamicamente com novas informações."
      ]
    },
    {
      "cell_type": "code",
      "metadata": {},
      "source": [
        "# Exemplo de gestão da base de conhecimento\n",
        "novo_conhecimento = {\n",
        "    \"tema\": \"Python\",\n",
        "    \"conceitos\": [\"funções\", \"classes\", \"módulos\"],\n",
        "    \"exemplos\": [\"def soma(a, b): return a + b\"],\n",
        "    \"dificuldade\": \"iniciante\"\n",
        "}\n\n",
        "learning_engine.update_knowledge_base(\"python_basico\", novo_conhecimento)\n\n",
        "# Verifica o estado da base\n",
        "resumo = learning_engine.get_learning_summary()\n",
        "print(\"Resumo da Base de Conhecimento:\")\n",
        "print(f\"- Total de Entradas: {resumo['total_entries']}\")\n",
        "print(f\"- Categorias: {', '.join(resumo['knowledge_categories'])}\")\n",
        "print(f\"- Última Atualização: {resumo['last_learning']}\")"
      ]
    },
    {
      "cell_type": "markdown",
      "metadata": {},
      "source": [
        "## 5. Métricas e Análises\n\n",
        "Vamos visualizar algumas métricas do processo de aprendizado."
      ]
    },
    {
      "cell_type": "code",
      "metadata": {},
      "source": [
        "import matplotlib.pyplot as plt\n",
        "import seaborn as sns\n\n",
        "# Obtém distribuição de tópicos\n",
        "distribuicao = learning_engine._get_topics_distribution()\n\n",
        "# Cria visualização\n",
        "plt.figure(figsize=(10, 6))\n",
        "sns.barplot(x=list(distribuicao.keys()), y=list(distribuicao.values()))\n",
        "plt.title(\"Distribuição de Tópicos na Base de Conhecimento\")\n",
        "plt.xticks(rotation=45)\n",
        "plt.tight_layout()\n",
        "plt.show()"
      ]
    }
  ],
  "metadata": {
    "kernelspec": {
      "display_name": "Python 3",
      "language": "python",
      "name": "python3"
    }
  },
  "nbformat": 4,
  "nbformat_minor": 4
}